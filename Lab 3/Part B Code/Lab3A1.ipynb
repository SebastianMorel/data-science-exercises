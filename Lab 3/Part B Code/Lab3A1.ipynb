{
 "cells": [
  {
   "cell_type": "code",
   "execution_count": 1,
   "metadata": {},
   "outputs": [],
   "source": [
    "import pandas as pd\n",
    "from sklearn import preprocessing\n",
    "from sklearn.model_selection import train_test_split\n",
    "from keras.models import Sequential\n",
    "from keras.layers import Dense\n",
    "from keras.layers import Dropout\n",
    "from keras import regularizers\n",
    "import matplotlib.pyplot as plt"
   ]
  },
  {
   "cell_type": "code",
   "execution_count": 2,
   "metadata": {},
   "outputs": [],
   "source": [
    "#Importing our dataset and converting it into a dataframe.\n",
    "df = pd.read_csv(\"housepricedata.csv\")"
   ]
  },
  {
   "cell_type": "code",
   "execution_count": 3,
   "metadata": {},
   "outputs": [
    {
     "data": {
      "text/html": [
       "<div>\n",
       "<style scoped>\n",
       "    .dataframe tbody tr th:only-of-type {\n",
       "        vertical-align: middle;\n",
       "    }\n",
       "\n",
       "    .dataframe tbody tr th {\n",
       "        vertical-align: top;\n",
       "    }\n",
       "\n",
       "    .dataframe thead th {\n",
       "        text-align: right;\n",
       "    }\n",
       "</style>\n",
       "<table border=\"1\" class=\"dataframe\">\n",
       "  <thead>\n",
       "    <tr style=\"text-align: right;\">\n",
       "      <th></th>\n",
       "      <th>LotArea</th>\n",
       "      <th>OverallQual</th>\n",
       "      <th>OverallCond</th>\n",
       "      <th>TotalBsmtSF</th>\n",
       "      <th>FullBath</th>\n",
       "      <th>HalfBath</th>\n",
       "      <th>BedroomAbvGr</th>\n",
       "      <th>TotRmsAbvGrd</th>\n",
       "      <th>Fireplaces</th>\n",
       "      <th>GarageArea</th>\n",
       "      <th>AboveMedianPrice</th>\n",
       "    </tr>\n",
       "  </thead>\n",
       "  <tbody>\n",
       "    <tr>\n",
       "      <th>0</th>\n",
       "      <td>8450</td>\n",
       "      <td>7</td>\n",
       "      <td>5</td>\n",
       "      <td>856</td>\n",
       "      <td>2</td>\n",
       "      <td>1</td>\n",
       "      <td>3</td>\n",
       "      <td>8</td>\n",
       "      <td>0</td>\n",
       "      <td>548</td>\n",
       "      <td>1</td>\n",
       "    </tr>\n",
       "    <tr>\n",
       "      <th>1</th>\n",
       "      <td>9600</td>\n",
       "      <td>6</td>\n",
       "      <td>8</td>\n",
       "      <td>1262</td>\n",
       "      <td>2</td>\n",
       "      <td>0</td>\n",
       "      <td>3</td>\n",
       "      <td>6</td>\n",
       "      <td>1</td>\n",
       "      <td>460</td>\n",
       "      <td>1</td>\n",
       "    </tr>\n",
       "    <tr>\n",
       "      <th>2</th>\n",
       "      <td>11250</td>\n",
       "      <td>7</td>\n",
       "      <td>5</td>\n",
       "      <td>920</td>\n",
       "      <td>2</td>\n",
       "      <td>1</td>\n",
       "      <td>3</td>\n",
       "      <td>6</td>\n",
       "      <td>1</td>\n",
       "      <td>608</td>\n",
       "      <td>1</td>\n",
       "    </tr>\n",
       "    <tr>\n",
       "      <th>3</th>\n",
       "      <td>9550</td>\n",
       "      <td>7</td>\n",
       "      <td>5</td>\n",
       "      <td>756</td>\n",
       "      <td>1</td>\n",
       "      <td>0</td>\n",
       "      <td>3</td>\n",
       "      <td>7</td>\n",
       "      <td>1</td>\n",
       "      <td>642</td>\n",
       "      <td>0</td>\n",
       "    </tr>\n",
       "    <tr>\n",
       "      <th>4</th>\n",
       "      <td>14260</td>\n",
       "      <td>8</td>\n",
       "      <td>5</td>\n",
       "      <td>1145</td>\n",
       "      <td>2</td>\n",
       "      <td>1</td>\n",
       "      <td>4</td>\n",
       "      <td>9</td>\n",
       "      <td>1</td>\n",
       "      <td>836</td>\n",
       "      <td>1</td>\n",
       "    </tr>\n",
       "    <tr>\n",
       "      <th>...</th>\n",
       "      <td>...</td>\n",
       "      <td>...</td>\n",
       "      <td>...</td>\n",
       "      <td>...</td>\n",
       "      <td>...</td>\n",
       "      <td>...</td>\n",
       "      <td>...</td>\n",
       "      <td>...</td>\n",
       "      <td>...</td>\n",
       "      <td>...</td>\n",
       "      <td>...</td>\n",
       "    </tr>\n",
       "    <tr>\n",
       "      <th>1455</th>\n",
       "      <td>7917</td>\n",
       "      <td>6</td>\n",
       "      <td>5</td>\n",
       "      <td>953</td>\n",
       "      <td>2</td>\n",
       "      <td>1</td>\n",
       "      <td>3</td>\n",
       "      <td>7</td>\n",
       "      <td>1</td>\n",
       "      <td>460</td>\n",
       "      <td>1</td>\n",
       "    </tr>\n",
       "    <tr>\n",
       "      <th>1456</th>\n",
       "      <td>13175</td>\n",
       "      <td>6</td>\n",
       "      <td>6</td>\n",
       "      <td>1542</td>\n",
       "      <td>2</td>\n",
       "      <td>0</td>\n",
       "      <td>3</td>\n",
       "      <td>7</td>\n",
       "      <td>2</td>\n",
       "      <td>500</td>\n",
       "      <td>1</td>\n",
       "    </tr>\n",
       "    <tr>\n",
       "      <th>1457</th>\n",
       "      <td>9042</td>\n",
       "      <td>7</td>\n",
       "      <td>9</td>\n",
       "      <td>1152</td>\n",
       "      <td>2</td>\n",
       "      <td>0</td>\n",
       "      <td>4</td>\n",
       "      <td>9</td>\n",
       "      <td>2</td>\n",
       "      <td>252</td>\n",
       "      <td>1</td>\n",
       "    </tr>\n",
       "    <tr>\n",
       "      <th>1458</th>\n",
       "      <td>9717</td>\n",
       "      <td>5</td>\n",
       "      <td>6</td>\n",
       "      <td>1078</td>\n",
       "      <td>1</td>\n",
       "      <td>0</td>\n",
       "      <td>2</td>\n",
       "      <td>5</td>\n",
       "      <td>0</td>\n",
       "      <td>240</td>\n",
       "      <td>0</td>\n",
       "    </tr>\n",
       "    <tr>\n",
       "      <th>1459</th>\n",
       "      <td>9937</td>\n",
       "      <td>5</td>\n",
       "      <td>6</td>\n",
       "      <td>1256</td>\n",
       "      <td>1</td>\n",
       "      <td>1</td>\n",
       "      <td>3</td>\n",
       "      <td>6</td>\n",
       "      <td>0</td>\n",
       "      <td>276</td>\n",
       "      <td>0</td>\n",
       "    </tr>\n",
       "  </tbody>\n",
       "</table>\n",
       "<p>1460 rows × 11 columns</p>\n",
       "</div>"
      ],
      "text/plain": [
       "      LotArea  OverallQual  OverallCond  TotalBsmtSF  FullBath  HalfBath  \\\n",
       "0        8450            7            5          856         2         1   \n",
       "1        9600            6            8         1262         2         0   \n",
       "2       11250            7            5          920         2         1   \n",
       "3        9550            7            5          756         1         0   \n",
       "4       14260            8            5         1145         2         1   \n",
       "...       ...          ...          ...          ...       ...       ...   \n",
       "1455     7917            6            5          953         2         1   \n",
       "1456    13175            6            6         1542         2         0   \n",
       "1457     9042            7            9         1152         2         0   \n",
       "1458     9717            5            6         1078         1         0   \n",
       "1459     9937            5            6         1256         1         1   \n",
       "\n",
       "      BedroomAbvGr  TotRmsAbvGrd  Fireplaces  GarageArea  AboveMedianPrice  \n",
       "0                3             8           0         548                 1  \n",
       "1                3             6           1         460                 1  \n",
       "2                3             6           1         608                 1  \n",
       "3                3             7           1         642                 0  \n",
       "4                4             9           1         836                 1  \n",
       "...            ...           ...         ...         ...               ...  \n",
       "1455             3             7           1         460                 1  \n",
       "1456             3             7           2         500                 1  \n",
       "1457             4             9           2         252                 1  \n",
       "1458             2             5           0         240                 0  \n",
       "1459             3             6           0         276                 0  \n",
       "\n",
       "[1460 rows x 11 columns]"
      ]
     },
     "execution_count": 3,
     "metadata": {},
     "output_type": "execute_result"
    }
   ],
   "source": [
    "df"
   ]
  },
  {
   "cell_type": "code",
   "execution_count": 4,
   "metadata": {},
   "outputs": [],
   "source": [
    "#Converting our dataframe to an array that our model will be able to process.\n",
    "dataset = df.values"
   ]
  },
  {
   "cell_type": "code",
   "execution_count": 5,
   "metadata": {},
   "outputs": [
    {
     "data": {
      "text/plain": [
       "array([[ 8450,     7,     5, ...,     0,   548,     1],\n",
       "       [ 9600,     6,     8, ...,     1,   460,     1],\n",
       "       [11250,     7,     5, ...,     1,   608,     1],\n",
       "       ...,\n",
       "       [ 9042,     7,     9, ...,     2,   252,     1],\n",
       "       [ 9717,     5,     6, ...,     0,   240,     0],\n",
       "       [ 9937,     5,     6, ...,     0,   276,     0]], dtype=int64)"
      ]
     },
     "execution_count": 5,
     "metadata": {},
     "output_type": "execute_result"
    }
   ],
   "source": [
    "dataset"
   ]
  },
  {
   "cell_type": "code",
   "execution_count": 6,
   "metadata": {},
   "outputs": [],
   "source": [
    "#Splittinng the data into X (input) and Y (Which is what we want to predict)\n",
    "X = dataset[:,0:10]\n",
    "Y = dataset[:,10]"
   ]
  },
  {
   "cell_type": "code",
   "execution_count": 7,
   "metadata": {},
   "outputs": [],
   "source": [
    "#Normalizing the input data.\n",
    "min_max_scaler = preprocessing.MinMaxScaler()\n",
    "X_scale = min_max_scaler.fit_transform(X)"
   ]
  },
  {
   "cell_type": "code",
   "execution_count": 8,
   "metadata": {},
   "outputs": [
    {
     "data": {
      "text/plain": [
       "array([[0.0334198 , 0.66666667, 0.5       , ..., 0.5       , 0.        ,\n",
       "        0.3864598 ],\n",
       "       [0.03879502, 0.55555556, 0.875     , ..., 0.33333333, 0.33333333,\n",
       "        0.32440056],\n",
       "       [0.04650728, 0.66666667, 0.5       , ..., 0.33333333, 0.33333333,\n",
       "        0.42877292],\n",
       "       ...,\n",
       "       [0.03618687, 0.66666667, 1.        , ..., 0.58333333, 0.66666667,\n",
       "        0.17771509],\n",
       "       [0.03934189, 0.44444444, 0.625     , ..., 0.25      , 0.        ,\n",
       "        0.16925247],\n",
       "       [0.04037019, 0.44444444, 0.625     , ..., 0.33333333, 0.        ,\n",
       "        0.19464034]])"
      ]
     },
     "execution_count": 8,
     "metadata": {},
     "output_type": "execute_result"
    }
   ],
   "source": [
    "X_scale"
   ]
  },
  {
   "cell_type": "code",
   "execution_count": 9,
   "metadata": {},
   "outputs": [],
   "source": [
    "#Splitting our data to test and validation set and train set, with 30% going to the test and validation set.\n",
    "X_train, X_val_and_test, Y_train, Y_val_and_test = train_test_split(X_scale, Y, test_size=0.3)"
   ]
  },
  {
   "cell_type": "code",
   "execution_count": 10,
   "metadata": {},
   "outputs": [],
   "source": [
    "#Splitting the test and validation set into to test set and validation set. Which amounts to 15% of the whole dataset each.\n",
    "X_val, X_test, Y_val, Y_test = train_test_split(X_val_and_test, Y_val_and_test, test_size=0.5)"
   ]
  },
  {
   "cell_type": "code",
   "execution_count": 11,
   "metadata": {},
   "outputs": [
    {
     "name": "stdout",
     "output_type": "stream",
     "text": [
      "(1022, 10) (219, 10) (219, 10) (1022,) (219,) (219,)\n"
     ]
    }
   ],
   "source": [
    "print(X_train.shape, X_val.shape, X_test.shape, Y_train.shape, Y_val.shape, Y_test.shape)"
   ]
  },
  {
   "cell_type": "code",
   "execution_count": 12,
   "metadata": {},
   "outputs": [],
   "source": [
    "#Building our first model, with 2 hidden layers with 32 neurons each.\n",
    "model = Sequential([\n",
    "    Dense(32, activation='relu', input_shape=(10,)),\n",
    "    Dense(32, activation='relu'),\n",
    "    Dense(1, activation='sigmoid'),\n",
    "])"
   ]
  },
  {
   "cell_type": "code",
   "execution_count": 13,
   "metadata": {},
   "outputs": [],
   "source": [
    "#Compiling our model with stochastic gradient descent as the optimizer, \n",
    "#and we will also want to track the accuracy of the model.\n",
    "model.compile(optimizer='sgd',\n",
    "              loss='binary_crossentropy',\n",
    "              metrics=['accuracy'])"
   ]
  },
  {
   "cell_type": "code",
   "execution_count": 14,
   "metadata": {},
   "outputs": [
    {
     "name": "stdout",
     "output_type": "stream",
     "text": [
      "Epoch 1/100\n",
      "32/32 [==============================] - 1s 26ms/step - loss: 0.6858 - accuracy: 0.5576 - val_loss: 0.6825 - val_accuracy: 0.6119\n",
      "Epoch 2/100\n",
      "32/32 [==============================] - 0s 1ms/step - loss: 0.6773 - accuracy: 0.6421 - val_loss: 0.6717 - val_accuracy: 0.6804\n",
      "Epoch 3/100\n",
      "32/32 [==============================] - 0s 1ms/step - loss: 0.6660 - accuracy: 0.7103 - val_loss: 0.6608 - val_accuracy: 0.7397\n",
      "Epoch 4/100\n",
      "32/32 [==============================] - 0s 1ms/step - loss: 0.6565 - accuracy: 0.7521 - val_loss: 0.6513 - val_accuracy: 0.7717\n",
      "Epoch 5/100\n",
      "32/32 [==============================] - 0s 1ms/step - loss: 0.6488 - accuracy: 0.7738 - val_loss: 0.6428 - val_accuracy: 0.7854\n",
      "Epoch 6/100\n",
      "32/32 [==============================] - 0s 1ms/step - loss: 0.6444 - accuracy: 0.7678 - val_loss: 0.6351 - val_accuracy: 0.7900\n",
      "Epoch 7/100\n",
      "32/32 [==============================] - 0s 1ms/step - loss: 0.6312 - accuracy: 0.8150 - val_loss: 0.6272 - val_accuracy: 0.7991\n",
      "Epoch 8/100\n",
      "32/32 [==============================] - 0s 1ms/step - loss: 0.6271 - accuracy: 0.8104 - val_loss: 0.6193 - val_accuracy: 0.8219\n",
      "Epoch 9/100\n",
      "32/32 [==============================] - 0s 1ms/step - loss: 0.6174 - accuracy: 0.8159 - val_loss: 0.6115 - val_accuracy: 0.8356\n",
      "Epoch 10/100\n",
      "32/32 [==============================] - 0s 1ms/step - loss: 0.6091 - accuracy: 0.8149 - val_loss: 0.6031 - val_accuracy: 0.8493\n",
      "Epoch 11/100\n",
      "32/32 [==============================] - 0s 1ms/step - loss: 0.6033 - accuracy: 0.8293 - val_loss: 0.5948 - val_accuracy: 0.8493\n",
      "Epoch 12/100\n",
      "32/32 [==============================] - 0s 1ms/step - loss: 0.6004 - accuracy: 0.8056 - val_loss: 0.5860 - val_accuracy: 0.8676\n",
      "Epoch 13/100\n",
      "32/32 [==============================] - 0s 1ms/step - loss: 0.5871 - accuracy: 0.8345 - val_loss: 0.5768 - val_accuracy: 0.8767\n",
      "Epoch 14/100\n",
      "32/32 [==============================] - 0s 1ms/step - loss: 0.5842 - accuracy: 0.8337 - val_loss: 0.5675 - val_accuracy: 0.8767\n",
      "Epoch 15/100\n",
      "32/32 [==============================] - 0s 1ms/step - loss: 0.5714 - accuracy: 0.8272 - val_loss: 0.5579 - val_accuracy: 0.8813\n",
      "Epoch 16/100\n",
      "32/32 [==============================] - 0s 1ms/step - loss: 0.5581 - accuracy: 0.8457 - val_loss: 0.5478 - val_accuracy: 0.8858\n",
      "Epoch 17/100\n",
      "32/32 [==============================] - 0s 1ms/step - loss: 0.5481 - accuracy: 0.8615 - val_loss: 0.5373 - val_accuracy: 0.8904\n",
      "Epoch 18/100\n",
      "32/32 [==============================] - 0s 1ms/step - loss: 0.5319 - accuracy: 0.8537 - val_loss: 0.5270 - val_accuracy: 0.8858\n",
      "Epoch 19/100\n",
      "32/32 [==============================] - 0s 1ms/step - loss: 0.5223 - accuracy: 0.8499 - val_loss: 0.5163 - val_accuracy: 0.8904\n",
      "Epoch 20/100\n",
      "32/32 [==============================] - 0s 1ms/step - loss: 0.5211 - accuracy: 0.8488 - val_loss: 0.5058 - val_accuracy: 0.8904\n",
      "Epoch 21/100\n",
      "32/32 [==============================] - 0s 1ms/step - loss: 0.5060 - accuracy: 0.8666 - val_loss: 0.4947 - val_accuracy: 0.8904\n",
      "Epoch 22/100\n",
      "32/32 [==============================] - 0s 1ms/step - loss: 0.4962 - accuracy: 0.8605 - val_loss: 0.4836 - val_accuracy: 0.9041\n",
      "Epoch 23/100\n",
      "32/32 [==============================] - 0s 1ms/step - loss: 0.4883 - accuracy: 0.8599 - val_loss: 0.4734 - val_accuracy: 0.8904\n",
      "Epoch 24/100\n",
      "32/32 [==============================] - 0s 1ms/step - loss: 0.4915 - accuracy: 0.8332 - val_loss: 0.4621 - val_accuracy: 0.9132\n",
      "Epoch 25/100\n",
      "32/32 [==============================] - 0s 1ms/step - loss: 0.4625 - accuracy: 0.8751 - val_loss: 0.4518 - val_accuracy: 0.9132\n",
      "Epoch 26/100\n",
      "32/32 [==============================] - 0s 1ms/step - loss: 0.4698 - accuracy: 0.8510 - val_loss: 0.4416 - val_accuracy: 0.9132\n",
      "Epoch 27/100\n",
      "32/32 [==============================] - 0s 1ms/step - loss: 0.4476 - accuracy: 0.8617 - val_loss: 0.4315 - val_accuracy: 0.9132\n",
      "Epoch 28/100\n",
      "32/32 [==============================] - 0s 1ms/step - loss: 0.4278 - accuracy: 0.8748 - val_loss: 0.4221 - val_accuracy: 0.9132\n",
      "Epoch 29/100\n",
      "32/32 [==============================] - 0s 1ms/step - loss: 0.4352 - accuracy: 0.8565 - val_loss: 0.4126 - val_accuracy: 0.9224\n",
      "Epoch 30/100\n",
      "32/32 [==============================] - 0s 1ms/step - loss: 0.4231 - accuracy: 0.8557 - val_loss: 0.4036 - val_accuracy: 0.9224\n",
      "Epoch 31/100\n",
      "32/32 [==============================] - 0s 1ms/step - loss: 0.4191 - accuracy: 0.8554 - val_loss: 0.3952 - val_accuracy: 0.9178\n",
      "Epoch 32/100\n",
      "32/32 [==============================] - 0s 1ms/step - loss: 0.4251 - accuracy: 0.8568 - val_loss: 0.3869 - val_accuracy: 0.9178\n",
      "Epoch 33/100\n",
      "32/32 [==============================] - 0s 1ms/step - loss: 0.3970 - accuracy: 0.8508 - val_loss: 0.3792 - val_accuracy: 0.9178\n",
      "Epoch 34/100\n",
      "32/32 [==============================] - 0s 1ms/step - loss: 0.3992 - accuracy: 0.8503 - val_loss: 0.3717 - val_accuracy: 0.9178\n",
      "Epoch 35/100\n",
      "32/32 [==============================] - 0s 1ms/step - loss: 0.3823 - accuracy: 0.8617 - val_loss: 0.3649 - val_accuracy: 0.9132\n",
      "Epoch 36/100\n",
      "32/32 [==============================] - 0s 1ms/step - loss: 0.3946 - accuracy: 0.8420 - val_loss: 0.3583 - val_accuracy: 0.9132\n",
      "Epoch 37/100\n",
      "32/32 [==============================] - 0s 1ms/step - loss: 0.3586 - accuracy: 0.8738 - val_loss: 0.3520 - val_accuracy: 0.9087\n",
      "Epoch 38/100\n",
      "32/32 [==============================] - 0s 1ms/step - loss: 0.3633 - accuracy: 0.8749 - val_loss: 0.3464 - val_accuracy: 0.9132\n",
      "Epoch 39/100\n",
      "32/32 [==============================] - 0s 1ms/step - loss: 0.3926 - accuracy: 0.8545 - val_loss: 0.3404 - val_accuracy: 0.9132\n",
      "Epoch 40/100\n",
      "32/32 [==============================] - 0s 1ms/step - loss: 0.3739 - accuracy: 0.8541 - val_loss: 0.3352 - val_accuracy: 0.9087\n",
      "Epoch 41/100\n",
      "32/32 [==============================] - 0s 1ms/step - loss: 0.3546 - accuracy: 0.8720 - val_loss: 0.3306 - val_accuracy: 0.9087\n",
      "Epoch 42/100\n",
      "32/32 [==============================] - 0s 1ms/step - loss: 0.3606 - accuracy: 0.8625 - val_loss: 0.3255 - val_accuracy: 0.9041\n",
      "Epoch 43/100\n",
      "32/32 [==============================] - 0s 1ms/step - loss: 0.3310 - accuracy: 0.8715 - val_loss: 0.3211 - val_accuracy: 0.9041\n",
      "Epoch 44/100\n",
      "32/32 [==============================] - 0s 1ms/step - loss: 0.3404 - accuracy: 0.8658 - val_loss: 0.3173 - val_accuracy: 0.9087\n",
      "Epoch 45/100\n",
      "32/32 [==============================] - 0s 1ms/step - loss: 0.3447 - accuracy: 0.8665 - val_loss: 0.3132 - val_accuracy: 0.9041\n",
      "Epoch 46/100\n",
      "32/32 [==============================] - 0s 1ms/step - loss: 0.3538 - accuracy: 0.8529 - val_loss: 0.3098 - val_accuracy: 0.9041\n",
      "Epoch 47/100\n",
      "32/32 [==============================] - 0s 1ms/step - loss: 0.3381 - accuracy: 0.8576 - val_loss: 0.3063 - val_accuracy: 0.9041\n",
      "Epoch 48/100\n",
      "32/32 [==============================] - 0s 1ms/step - loss: 0.3380 - accuracy: 0.8686 - val_loss: 0.3032 - val_accuracy: 0.9041\n",
      "Epoch 49/100\n",
      "32/32 [==============================] - 0s 1ms/step - loss: 0.3464 - accuracy: 0.8528 - val_loss: 0.3000 - val_accuracy: 0.9041\n",
      "Epoch 50/100\n",
      "32/32 [==============================] - 0s 1ms/step - loss: 0.3274 - accuracy: 0.8666 - val_loss: 0.2970 - val_accuracy: 0.9041\n",
      "Epoch 51/100\n",
      "32/32 [==============================] - 0s 1ms/step - loss: 0.3445 - accuracy: 0.8614 - val_loss: 0.2944 - val_accuracy: 0.9087\n",
      "Epoch 52/100\n",
      "32/32 [==============================] - 0s 1ms/step - loss: 0.3344 - accuracy: 0.8620 - val_loss: 0.2918 - val_accuracy: 0.9041\n",
      "Epoch 53/100\n",
      "32/32 [==============================] - 0s 1ms/step - loss: 0.3141 - accuracy: 0.8831 - val_loss: 0.2894 - val_accuracy: 0.9041\n",
      "Epoch 54/100\n",
      "32/32 [==============================] - 0s 1ms/step - loss: 0.3030 - accuracy: 0.8803 - val_loss: 0.2874 - val_accuracy: 0.9041\n",
      "Epoch 55/100\n",
      "32/32 [==============================] - 0s 1ms/step - loss: 0.3356 - accuracy: 0.8606 - val_loss: 0.2850 - val_accuracy: 0.9041\n",
      "Epoch 56/100\n",
      "32/32 [==============================] - 0s 1ms/step - loss: 0.3148 - accuracy: 0.8817 - val_loss: 0.2832 - val_accuracy: 0.9087\n",
      "Epoch 57/100\n",
      "32/32 [==============================] - 0s 1ms/step - loss: 0.3174 - accuracy: 0.8685 - val_loss: 0.2814 - val_accuracy: 0.9087\n",
      "Epoch 58/100\n",
      "32/32 [==============================] - 0s 1ms/step - loss: 0.2943 - accuracy: 0.8903 - val_loss: 0.2797 - val_accuracy: 0.9087\n"
     ]
    },
    {
     "name": "stdout",
     "output_type": "stream",
     "text": [
      "Epoch 59/100\n",
      "32/32 [==============================] - 0s 1ms/step - loss: 0.3232 - accuracy: 0.8691 - val_loss: 0.2776 - val_accuracy: 0.9132\n",
      "Epoch 60/100\n",
      "32/32 [==============================] - 0s 1ms/step - loss: 0.3003 - accuracy: 0.8834 - val_loss: 0.2760 - val_accuracy: 0.9087\n",
      "Epoch 61/100\n",
      "32/32 [==============================] - 0s 1ms/step - loss: 0.2965 - accuracy: 0.8697 - val_loss: 0.2744 - val_accuracy: 0.9132\n",
      "Epoch 62/100\n",
      "32/32 [==============================] - 0s 1ms/step - loss: 0.2980 - accuracy: 0.8682 - val_loss: 0.2735 - val_accuracy: 0.9087\n",
      "Epoch 63/100\n",
      "32/32 [==============================] - 0s 1ms/step - loss: 0.2972 - accuracy: 0.8833 - val_loss: 0.2728 - val_accuracy: 0.9132\n",
      "Epoch 64/100\n",
      "32/32 [==============================] - 0s 1ms/step - loss: 0.3192 - accuracy: 0.8617 - val_loss: 0.2703 - val_accuracy: 0.9132\n",
      "Epoch 65/100\n",
      "32/32 [==============================] - 0s 1ms/step - loss: 0.3200 - accuracy: 0.8637 - val_loss: 0.2693 - val_accuracy: 0.9041\n",
      "Epoch 66/100\n",
      "32/32 [==============================] - 0s 1ms/step - loss: 0.2939 - accuracy: 0.8727 - val_loss: 0.2679 - val_accuracy: 0.9178\n",
      "Epoch 67/100\n",
      "32/32 [==============================] - 0s 1ms/step - loss: 0.2883 - accuracy: 0.8822 - val_loss: 0.2678 - val_accuracy: 0.9178\n",
      "Epoch 68/100\n",
      "32/32 [==============================] - 0s 1ms/step - loss: 0.2981 - accuracy: 0.8783 - val_loss: 0.2656 - val_accuracy: 0.9178\n",
      "Epoch 69/100\n",
      "32/32 [==============================] - 0s 1ms/step - loss: 0.2913 - accuracy: 0.8908 - val_loss: 0.2641 - val_accuracy: 0.9132\n",
      "Epoch 70/100\n",
      "32/32 [==============================] - 0s 1ms/step - loss: 0.3154 - accuracy: 0.8800 - val_loss: 0.2635 - val_accuracy: 0.9178\n",
      "Epoch 71/100\n",
      "32/32 [==============================] - 0s 1ms/step - loss: 0.3003 - accuracy: 0.8694 - val_loss: 0.2635 - val_accuracy: 0.9178\n",
      "Epoch 72/100\n",
      "32/32 [==============================] - 0s 1ms/step - loss: 0.2961 - accuracy: 0.8814 - val_loss: 0.2615 - val_accuracy: 0.9178\n",
      "Epoch 73/100\n",
      "32/32 [==============================] - 0s 1ms/step - loss: 0.2804 - accuracy: 0.8779 - val_loss: 0.2603 - val_accuracy: 0.9178\n",
      "Epoch 74/100\n",
      "32/32 [==============================] - 0s 1ms/step - loss: 0.3169 - accuracy: 0.8620 - val_loss: 0.2594 - val_accuracy: 0.9178\n",
      "Epoch 75/100\n",
      "32/32 [==============================] - 0s 1ms/step - loss: 0.3008 - accuracy: 0.8752 - val_loss: 0.2591 - val_accuracy: 0.9224\n",
      "Epoch 76/100\n",
      "32/32 [==============================] - 0s 1ms/step - loss: 0.2812 - accuracy: 0.8941 - val_loss: 0.2601 - val_accuracy: 0.9224\n",
      "Epoch 77/100\n",
      "32/32 [==============================] - 0s 1ms/step - loss: 0.2898 - accuracy: 0.8879 - val_loss: 0.2570 - val_accuracy: 0.9178\n",
      "Epoch 78/100\n",
      "32/32 [==============================] - 0s 1ms/step - loss: 0.2874 - accuracy: 0.8858 - val_loss: 0.2576 - val_accuracy: 0.9224\n",
      "Epoch 79/100\n",
      "32/32 [==============================] - 0s 1ms/step - loss: 0.2900 - accuracy: 0.8883 - val_loss: 0.2553 - val_accuracy: 0.9132\n",
      "Epoch 80/100\n",
      "32/32 [==============================] - 0s 1ms/step - loss: 0.2884 - accuracy: 0.8947 - val_loss: 0.2558 - val_accuracy: 0.9224\n",
      "Epoch 81/100\n",
      "32/32 [==============================] - 0s 1ms/step - loss: 0.2791 - accuracy: 0.8772 - val_loss: 0.2539 - val_accuracy: 0.9178\n",
      "Epoch 82/100\n",
      "32/32 [==============================] - 0s 1ms/step - loss: 0.2939 - accuracy: 0.8728 - val_loss: 0.2531 - val_accuracy: 0.9132\n",
      "Epoch 83/100\n",
      "32/32 [==============================] - 0s 1ms/step - loss: 0.2864 - accuracy: 0.8800 - val_loss: 0.2532 - val_accuracy: 0.9224\n",
      "Epoch 84/100\n",
      "32/32 [==============================] - 0s 1ms/step - loss: 0.2795 - accuracy: 0.8739 - val_loss: 0.2537 - val_accuracy: 0.9224\n",
      "Epoch 85/100\n",
      "32/32 [==============================] - 0s 1ms/step - loss: 0.2761 - accuracy: 0.8937 - val_loss: 0.2554 - val_accuracy: 0.9224\n",
      "Epoch 86/100\n",
      "32/32 [==============================] - 0s 1ms/step - loss: 0.2920 - accuracy: 0.8697 - val_loss: 0.2525 - val_accuracy: 0.9224\n",
      "Epoch 87/100\n",
      "32/32 [==============================] - 0s 1ms/step - loss: 0.2820 - accuracy: 0.8857 - val_loss: 0.2508 - val_accuracy: 0.9224\n",
      "Epoch 88/100\n",
      "32/32 [==============================] - 0s 1ms/step - loss: 0.2789 - accuracy: 0.8863 - val_loss: 0.2494 - val_accuracy: 0.9178\n",
      "Epoch 89/100\n",
      "32/32 [==============================] - 0s 1ms/step - loss: 0.2769 - accuracy: 0.8936 - val_loss: 0.2502 - val_accuracy: 0.9178\n",
      "Epoch 90/100\n",
      "32/32 [==============================] - 0s 1ms/step - loss: 0.2960 - accuracy: 0.8722 - val_loss: 0.2504 - val_accuracy: 0.9178\n",
      "Epoch 91/100\n",
      "32/32 [==============================] - 0s 1ms/step - loss: 0.2983 - accuracy: 0.8575 - val_loss: 0.2480 - val_accuracy: 0.9269\n",
      "Epoch 92/100\n",
      "32/32 [==============================] - 0s 1ms/step - loss: 0.2561 - accuracy: 0.8898 - val_loss: 0.2477 - val_accuracy: 0.9269\n",
      "Epoch 93/100\n",
      "32/32 [==============================] - 0s 1ms/step - loss: 0.2850 - accuracy: 0.8688 - val_loss: 0.2507 - val_accuracy: 0.9224\n",
      "Epoch 94/100\n",
      "32/32 [==============================] - 0s 1ms/step - loss: 0.2907 - accuracy: 0.8812 - val_loss: 0.2479 - val_accuracy: 0.9224\n",
      "Epoch 95/100\n",
      "32/32 [==============================] - 0s 1ms/step - loss: 0.2941 - accuracy: 0.8673 - val_loss: 0.2487 - val_accuracy: 0.9224\n",
      "Epoch 96/100\n",
      "32/32 [==============================] - 0s 1ms/step - loss: 0.2721 - accuracy: 0.8891 - val_loss: 0.2454 - val_accuracy: 0.9224\n",
      "Epoch 97/100\n",
      "32/32 [==============================] - 0s 1ms/step - loss: 0.2699 - accuracy: 0.8976 - val_loss: 0.2451 - val_accuracy: 0.9224\n",
      "Epoch 98/100\n",
      "32/32 [==============================] - 0s 1ms/step - loss: 0.2782 - accuracy: 0.8848 - val_loss: 0.2444 - val_accuracy: 0.9224\n",
      "Epoch 99/100\n",
      "32/32 [==============================] - 0s 1ms/step - loss: 0.2892 - accuracy: 0.8749 - val_loss: 0.2443 - val_accuracy: 0.9269\n",
      "Epoch 100/100\n",
      "32/32 [==============================] - 0s 1ms/step - loss: 0.2807 - accuracy: 0.8879 - val_loss: 0.2498 - val_accuracy: 0.9224\n"
     ]
    }
   ],
   "source": [
    "hist = model.fit(X_train, Y_train,\n",
    "          batch_size=32, epochs=100,\n",
    "          validation_data=(X_val, Y_val))"
   ]
  },
  {
   "cell_type": "code",
   "execution_count": 15,
   "metadata": {},
   "outputs": [
    {
     "name": "stdout",
     "output_type": "stream",
     "text": [
      "7/7 [==============================] - 0s 667us/step - loss: 0.3296 - accuracy: 0.8767\n"
     ]
    },
    {
     "data": {
      "text/plain": [
       "0.8767123222351074"
      ]
     },
     "execution_count": 15,
     "metadata": {},
     "output_type": "execute_result"
    }
   ],
   "source": [
    "#Evaluatig the accuracy of our model.\n",
    "model.evaluate(X_test, Y_test)[1]"
   ]
  },
  {
   "cell_type": "code",
   "execution_count": 16,
   "metadata": {},
   "outputs": [
    {
     "data": {
      "image/png": "[encoded data removed]",
      "text/plain": [
       "<Figure size 432x288 with 1 Axes>"
      ]
     },
     "metadata": {
      "needs_background": "light"
     },
     "output_type": "display_data"
    }
   ],
   "source": [
    "#Plotting the loss over time for the first model.\n",
    "plt.plot(hist.history['loss'])\n",
    "plt.plot(hist.history['val_loss'])\n",
    "plt.title('Model loss')\n",
    "plt.ylabel('Loss')\n",
    "plt.xlabel('Epoch')\n",
    "plt.legend(['Train', 'Val'], loc='upper right')\n",
    "plt.show()"
   ]
  },
  {
   "cell_type": "code",
   "execution_count": 17,
   "metadata": {},
   "outputs": [
    {
     "data": {
      "image/png": "[encoded data removed]",
      "text/plain": [
       "<Figure size 432x288 with 1 Axes>"
      ]
     },
     "metadata": {
      "needs_background": "light"
     },
     "output_type": "display_data"
    }
   ],
   "source": [
    "#Plotting the accuracy over time for the first model.\n",
    "plt.plot(hist.history['accuracy'])\n",
    "plt.plot(hist.history['val_accuracy'])\n",
    "plt.title('Model accuracy')\n",
    "plt.ylabel('Accuracy')\n",
    "plt.xlabel('Epoch')\n",
    "plt.legend(['Train', 'Val'], loc='lower right')\n",
    "plt.show()"
   ]
  },
  {
   "cell_type": "code",
   "execution_count": 18,
   "metadata": {},
   "outputs": [],
   "source": [
    "#Configuring our second model, with 4 hidden layers with 1000 neurons in each.\n",
    "model_2 = Sequential([\n",
    "    Dense(1000, activation='relu', input_shape=(10,)),\n",
    "    Dense(1000, activation='relu'),\n",
    "    Dense(1000, activation='relu'),\n",
    "    Dense(1000, activation='relu'),\n",
    "    Dense(1, activation='sigmoid'),\n",
    "])"
   ]
  },
  {
   "cell_type": "code",
   "execution_count": 19,
   "metadata": {},
   "outputs": [],
   "source": [
    "#Compiling our model with adam as the optimizer, \n",
    "#and we will also want to track the accuracy of the model.\n",
    "model_2.compile(optimizer='adam',\n",
    "              loss='binary_crossentropy',\n",
    "              metrics=['accuracy'])"
   ]
  },
  {
   "cell_type": "code",
   "execution_count": 20,
   "metadata": {},
   "outputs": [
    {
     "name": "stdout",
     "output_type": "stream",
     "text": [
      "Epoch 1/100\n",
      "32/32 [==============================] - 1s 24ms/step - loss: 0.5647 - accuracy: 0.6638 - val_loss: 0.2939 - val_accuracy: 0.8950\n",
      "Epoch 2/100\n",
      "32/32 [==============================] - 1s 19ms/step - loss: 0.3606 - accuracy: 0.8372 - val_loss: 0.2753 - val_accuracy: 0.8950\n",
      "Epoch 3/100\n",
      "32/32 [==============================] - 1s 19ms/step - loss: 0.2895 - accuracy: 0.8887 - val_loss: 0.2602 - val_accuracy: 0.8767\n",
      "Epoch 4/100\n",
      "32/32 [==============================] - 1s 18ms/step - loss: 0.2858 - accuracy: 0.8789 - val_loss: 0.2390 - val_accuracy: 0.8950\n",
      "Epoch 5/100\n",
      "32/32 [==============================] - 1s 19ms/step - loss: 0.2544 - accuracy: 0.8900 - val_loss: 0.2315 - val_accuracy: 0.8950\n",
      "Epoch 6/100\n",
      "32/32 [==============================] - 1s 18ms/step - loss: 0.2506 - accuracy: 0.8999 - val_loss: 0.4529 - val_accuracy: 0.7671\n",
      "Epoch 7/100\n",
      "32/32 [==============================] - 1s 19ms/step - loss: 0.3255 - accuracy: 0.8785 - val_loss: 0.2353 - val_accuracy: 0.9041\n",
      "Epoch 8/100\n",
      "32/32 [==============================] - 1s 19ms/step - loss: 0.2375 - accuracy: 0.8993 - val_loss: 0.2378 - val_accuracy: 0.9224\n",
      "Epoch 9/100\n",
      "32/32 [==============================] - 1s 20ms/step - loss: 0.2460 - accuracy: 0.8933 - val_loss: 0.2480 - val_accuracy: 0.8950\n",
      "Epoch 10/100\n",
      "32/32 [==============================] - 1s 19ms/step - loss: 0.2519 - accuracy: 0.9007 - val_loss: 0.2383 - val_accuracy: 0.9132\n",
      "Epoch 11/100\n",
      "32/32 [==============================] - 1s 18ms/step - loss: 0.2497 - accuracy: 0.8841 - val_loss: 0.2395 - val_accuracy: 0.8858\n",
      "Epoch 12/100\n",
      "32/32 [==============================] - 1s 19ms/step - loss: 0.2506 - accuracy: 0.9136 - val_loss: 0.2308 - val_accuracy: 0.9041\n",
      "Epoch 13/100\n",
      "32/32 [==============================] - 1s 20ms/step - loss: 0.2183 - accuracy: 0.9039 - val_loss: 0.2489 - val_accuracy: 0.8858\n",
      "Epoch 14/100\n",
      "32/32 [==============================] - 1s 18ms/step - loss: 0.2011 - accuracy: 0.9132 - val_loss: 0.2429 - val_accuracy: 0.9041\n",
      "Epoch 15/100\n",
      "32/32 [==============================] - 1s 19ms/step - loss: 0.1999 - accuracy: 0.9168 - val_loss: 0.2750 - val_accuracy: 0.8767\n",
      "Epoch 16/100\n",
      "32/32 [==============================] - 1s 19ms/step - loss: 0.2083 - accuracy: 0.9152 - val_loss: 0.2382 - val_accuracy: 0.9041\n",
      "Epoch 17/100\n",
      "32/32 [==============================] - 1s 19ms/step - loss: 0.2249 - accuracy: 0.9163 - val_loss: 0.2280 - val_accuracy: 0.9132\n",
      "Epoch 18/100\n",
      "32/32 [==============================] - 1s 19ms/step - loss: 0.2068 - accuracy: 0.9085 - val_loss: 0.2427 - val_accuracy: 0.9087\n",
      "Epoch 19/100\n",
      "32/32 [==============================] - 1s 20ms/step - loss: 0.2180 - accuracy: 0.9060 - val_loss: 0.3337 - val_accuracy: 0.8950\n",
      "Epoch 20/100\n",
      "32/32 [==============================] - 1s 19ms/step - loss: 0.2469 - accuracy: 0.8993 - val_loss: 0.2781 - val_accuracy: 0.8858\n",
      "Epoch 21/100\n",
      "32/32 [==============================] - 1s 19ms/step - loss: 0.2348 - accuracy: 0.8940 - val_loss: 0.2175 - val_accuracy: 0.9132\n",
      "Epoch 22/100\n",
      "32/32 [==============================] - 1s 19ms/step - loss: 0.1944 - accuracy: 0.9284 - val_loss: 0.2269 - val_accuracy: 0.9087\n",
      "Epoch 23/100\n",
      "32/32 [==============================] - 1s 18ms/step - loss: 0.1831 - accuracy: 0.9156 - val_loss: 0.2485 - val_accuracy: 0.9087\n",
      "Epoch 24/100\n",
      "32/32 [==============================] - 1s 19ms/step - loss: 0.1892 - accuracy: 0.9257 - val_loss: 0.2601 - val_accuracy: 0.9041\n",
      "Epoch 25/100\n",
      "32/32 [==============================] - 1s 19ms/step - loss: 0.1680 - accuracy: 0.9274 - val_loss: 0.2594 - val_accuracy: 0.8995\n",
      "Epoch 26/100\n",
      "32/32 [==============================] - 1s 20ms/step - loss: 0.2048 - accuracy: 0.9281 - val_loss: 0.2418 - val_accuracy: 0.8904\n",
      "Epoch 27/100\n",
      "32/32 [==============================] - 1s 19ms/step - loss: 0.2047 - accuracy: 0.9139 - val_loss: 0.2382 - val_accuracy: 0.9041\n",
      "Epoch 28/100\n",
      "32/32 [==============================] - 1s 19ms/step - loss: 0.1870 - accuracy: 0.9325 - val_loss: 0.2590 - val_accuracy: 0.9087\n",
      "Epoch 29/100\n",
      "32/32 [==============================] - 1s 19ms/step - loss: 0.1576 - accuracy: 0.9367 - val_loss: 0.2476 - val_accuracy: 0.9041\n",
      "Epoch 30/100\n",
      "32/32 [==============================] - 1s 19ms/step - loss: 0.1677 - accuracy: 0.9349 - val_loss: 0.2436 - val_accuracy: 0.9087\n",
      "Epoch 31/100\n",
      "32/32 [==============================] - 1s 18ms/step - loss: 0.1859 - accuracy: 0.9297 - val_loss: 0.2451 - val_accuracy: 0.9041\n",
      "Epoch 32/100\n",
      "32/32 [==============================] - 1s 19ms/step - loss: 0.1484 - accuracy: 0.9400 - val_loss: 0.3178 - val_accuracy: 0.8950\n",
      "Epoch 33/100\n",
      "32/32 [==============================] - 1s 19ms/step - loss: 0.1708 - accuracy: 0.9387 - val_loss: 0.2298 - val_accuracy: 0.8995\n",
      "Epoch 34/100\n",
      "32/32 [==============================] - 1s 20ms/step - loss: 0.1709 - accuracy: 0.9281 - val_loss: 0.3348 - val_accuracy: 0.8950\n",
      "Epoch 35/100\n",
      "32/32 [==============================] - 1s 20ms/step - loss: 0.1962 - accuracy: 0.9234 - val_loss: 0.2473 - val_accuracy: 0.9087\n",
      "Epoch 36/100\n",
      "32/32 [==============================] - 1s 19ms/step - loss: 0.1758 - accuracy: 0.9323 - val_loss: 0.2777 - val_accuracy: 0.8630\n",
      "Epoch 37/100\n",
      "32/32 [==============================] - 1s 19ms/step - loss: 0.1796 - accuracy: 0.9189 - val_loss: 0.2669 - val_accuracy: 0.9041\n",
      "Epoch 38/100\n",
      "32/32 [==============================] - 1s 19ms/step - loss: 0.1885 - accuracy: 0.9203 - val_loss: 0.2983 - val_accuracy: 0.8630\n",
      "Epoch 39/100\n",
      "32/32 [==============================] - 1s 19ms/step - loss: 0.1849 - accuracy: 0.9147 - val_loss: 0.2761 - val_accuracy: 0.8995\n",
      "Epoch 40/100\n",
      "32/32 [==============================] - 1s 19ms/step - loss: 0.1480 - accuracy: 0.9361 - val_loss: 0.3912 - val_accuracy: 0.8402\n",
      "Epoch 41/100\n",
      "32/32 [==============================] - 1s 19ms/step - loss: 0.1903 - accuracy: 0.9274 - val_loss: 0.3899 - val_accuracy: 0.8813\n",
      "Epoch 42/100\n",
      "32/32 [==============================] - 1s 19ms/step - loss: 0.1758 - accuracy: 0.9230 - val_loss: 0.3144 - val_accuracy: 0.8813\n",
      "Epoch 43/100\n",
      "32/32 [==============================] - 1s 20ms/step - loss: 0.1630 - accuracy: 0.9319 - val_loss: 0.3051 - val_accuracy: 0.8813\n",
      "Epoch 44/100\n",
      "32/32 [==============================] - 1s 19ms/step - loss: 0.1470 - accuracy: 0.9418 - val_loss: 0.2617 - val_accuracy: 0.9041\n",
      "Epoch 45/100\n",
      "32/32 [==============================] - 1s 19ms/step - loss: 0.1482 - accuracy: 0.9479 - val_loss: 0.3684 - val_accuracy: 0.8950\n",
      "Epoch 46/100\n",
      "32/32 [==============================] - 1s 19ms/step - loss: 0.1482 - accuracy: 0.9426 - val_loss: 0.3227 - val_accuracy: 0.9087\n",
      "Epoch 47/100\n",
      "32/32 [==============================] - 1s 19ms/step - loss: 0.1656 - accuracy: 0.9301 - val_loss: 0.2747 - val_accuracy: 0.8904\n",
      "Epoch 48/100\n",
      "32/32 [==============================] - 1s 20ms/step - loss: 0.1731 - accuracy: 0.9250 - val_loss: 0.2787 - val_accuracy: 0.8995\n",
      "Epoch 49/100\n",
      "32/32 [==============================] - 1s 19ms/step - loss: 0.1639 - accuracy: 0.9278 - val_loss: 0.2959 - val_accuracy: 0.8950\n",
      "Epoch 50/100\n",
      "32/32 [==============================] - 1s 19ms/step - loss: 0.1577 - accuracy: 0.9310 - val_loss: 0.3492 - val_accuracy: 0.8813\n",
      "Epoch 51/100\n",
      "32/32 [==============================] - 1s 20ms/step - loss: 0.1606 - accuracy: 0.9323 - val_loss: 0.2569 - val_accuracy: 0.9087\n",
      "Epoch 52/100\n",
      "32/32 [==============================] - 1s 19ms/step - loss: 0.1551 - accuracy: 0.9249 - val_loss: 0.3082 - val_accuracy: 0.8950\n",
      "Epoch 53/100\n",
      "32/32 [==============================] - 1s 19ms/step - loss: 0.2154 - accuracy: 0.9216 - val_loss: 0.3081 - val_accuracy: 0.8904\n",
      "Epoch 54/100\n",
      "32/32 [==============================] - 1s 19ms/step - loss: 0.1446 - accuracy: 0.9475 - val_loss: 0.2659 - val_accuracy: 0.8950\n",
      "Epoch 55/100\n",
      "32/32 [==============================] - 1s 19ms/step - loss: 0.1517 - accuracy: 0.9302 - val_loss: 0.3402 - val_accuracy: 0.8858\n",
      "Epoch 56/100\n",
      "32/32 [==============================] - 1s 19ms/step - loss: 0.1748 - accuracy: 0.9232 - val_loss: 0.3026 - val_accuracy: 0.9041\n",
      "Epoch 57/100\n",
      "32/32 [==============================] - 1s 19ms/step - loss: 0.1194 - accuracy: 0.9535 - val_loss: 0.3412 - val_accuracy: 0.8904\n",
      "Epoch 58/100\n"
     ]
    },
    {
     "name": "stdout",
     "output_type": "stream",
     "text": [
      "32/32 [==============================] - 1s 19ms/step - loss: 0.1175 - accuracy: 0.9567 - val_loss: 0.3453 - val_accuracy: 0.8904\n",
      "Epoch 59/100\n",
      "32/32 [==============================] - 1s 19ms/step - loss: 0.1744 - accuracy: 0.9334 - val_loss: 0.3359 - val_accuracy: 0.8904\n",
      "Epoch 60/100\n",
      "32/32 [==============================] - 1s 20ms/step - loss: 0.1311 - accuracy: 0.9439 - val_loss: 0.3192 - val_accuracy: 0.8858\n",
      "Epoch 61/100\n",
      "32/32 [==============================] - 1s 19ms/step - loss: 0.1361 - accuracy: 0.9453 - val_loss: 0.4022 - val_accuracy: 0.8767\n",
      "Epoch 62/100\n",
      "32/32 [==============================] - 1s 19ms/step - loss: 0.1519 - accuracy: 0.9342 - val_loss: 0.2887 - val_accuracy: 0.8858\n",
      "Epoch 63/100\n",
      "32/32 [==============================] - 1s 19ms/step - loss: 0.1554 - accuracy: 0.9298 - val_loss: 0.3213 - val_accuracy: 0.8995\n",
      "Epoch 64/100\n",
      "32/32 [==============================] - 1s 19ms/step - loss: 0.1387 - accuracy: 0.9442 - val_loss: 0.3345 - val_accuracy: 0.8950\n",
      "Epoch 65/100\n",
      "32/32 [==============================] - 1s 19ms/step - loss: 0.1341 - accuracy: 0.9503 - val_loss: 0.2896 - val_accuracy: 0.8904\n",
      "Epoch 66/100\n",
      "32/32 [==============================] - 1s 19ms/step - loss: 0.1281 - accuracy: 0.9493 - val_loss: 0.2926 - val_accuracy: 0.8904\n",
      "Epoch 67/100\n",
      "32/32 [==============================] - 1s 19ms/step - loss: 0.1549 - accuracy: 0.9456 - val_loss: 0.2665 - val_accuracy: 0.8904\n",
      "Epoch 68/100\n",
      "32/32 [==============================] - 1s 19ms/step - loss: 0.1184 - accuracy: 0.9381 - val_loss: 0.3324 - val_accuracy: 0.8995\n",
      "Epoch 69/100\n",
      "32/32 [==============================] - 1s 19ms/step - loss: 0.1744 - accuracy: 0.9188 - val_loss: 0.3902 - val_accuracy: 0.9087\n",
      "Epoch 70/100\n",
      "32/32 [==============================] - 1s 19ms/step - loss: 0.1270 - accuracy: 0.9461 - val_loss: 0.4439 - val_accuracy: 0.8539\n",
      "Epoch 71/100\n",
      "32/32 [==============================] - 1s 19ms/step - loss: 0.1892 - accuracy: 0.9196 - val_loss: 0.4301 - val_accuracy: 0.8584\n",
      "Epoch 72/100\n",
      "32/32 [==============================] - 1s 19ms/step - loss: 0.1381 - accuracy: 0.9411 - val_loss: 0.3318 - val_accuracy: 0.8950\n",
      "Epoch 73/100\n",
      "32/32 [==============================] - 1s 20ms/step - loss: 0.1257 - accuracy: 0.9501 - val_loss: 0.4011 - val_accuracy: 0.8813\n",
      "Epoch 74/100\n",
      "32/32 [==============================] - 1s 19ms/step - loss: 0.1137 - accuracy: 0.9581 - val_loss: 0.3469 - val_accuracy: 0.9132\n",
      "Epoch 75/100\n",
      "32/32 [==============================] - 1s 19ms/step - loss: 0.1057 - accuracy: 0.9518 - val_loss: 0.4187 - val_accuracy: 0.9087\n",
      "Epoch 76/100\n",
      "32/32 [==============================] - 1s 19ms/step - loss: 0.0889 - accuracy: 0.9607 - val_loss: 0.3966 - val_accuracy: 0.8950\n",
      "Epoch 77/100\n",
      "32/32 [==============================] - 1s 20ms/step - loss: 0.1039 - accuracy: 0.9502 - val_loss: 0.4025 - val_accuracy: 0.8767\n",
      "Epoch 78/100\n",
      "32/32 [==============================] - 1s 19ms/step - loss: 0.1208 - accuracy: 0.9441 - val_loss: 0.5080 - val_accuracy: 0.8904\n",
      "Epoch 79/100\n",
      "32/32 [==============================] - 1s 19ms/step - loss: 0.0900 - accuracy: 0.9604 - val_loss: 0.3623 - val_accuracy: 0.9087\n",
      "Epoch 80/100\n",
      "32/32 [==============================] - 1s 19ms/step - loss: 0.1058 - accuracy: 0.9533 - val_loss: 0.4155 - val_accuracy: 0.8995\n",
      "Epoch 81/100\n",
      "32/32 [==============================] - 1s 19ms/step - loss: 0.1137 - accuracy: 0.9664 - val_loss: 0.3685 - val_accuracy: 0.8950\n",
      "Epoch 82/100\n",
      "32/32 [==============================] - 1s 18ms/step - loss: 0.1384 - accuracy: 0.9357 - val_loss: 0.4068 - val_accuracy: 0.9041\n",
      "Epoch 83/100\n",
      "32/32 [==============================] - 1s 19ms/step - loss: 0.0935 - accuracy: 0.9646 - val_loss: 0.4309 - val_accuracy: 0.8950\n",
      "Epoch 84/100\n",
      "32/32 [==============================] - 1s 19ms/step - loss: 0.1039 - accuracy: 0.9542 - val_loss: 0.4109 - val_accuracy: 0.9087\n",
      "Epoch 85/100\n",
      "32/32 [==============================] - 1s 19ms/step - loss: 0.0954 - accuracy: 0.9608 - val_loss: 0.5011 - val_accuracy: 0.8721\n",
      "Epoch 86/100\n",
      "32/32 [==============================] - 1s 20ms/step - loss: 0.0845 - accuracy: 0.9643 - val_loss: 0.5109 - val_accuracy: 0.8721\n",
      "Epoch 87/100\n",
      "32/32 [==============================] - 1s 19ms/step - loss: 0.0854 - accuracy: 0.9622 - val_loss: 0.4589 - val_accuracy: 0.8813\n",
      "Epoch 88/100\n",
      "32/32 [==============================] - 1s 19ms/step - loss: 0.1025 - accuracy: 0.9602 - val_loss: 0.5211 - val_accuracy: 0.9087\n",
      "Epoch 89/100\n",
      "32/32 [==============================] - 1s 19ms/step - loss: 0.1368 - accuracy: 0.9460 - val_loss: 0.4038 - val_accuracy: 0.8904\n",
      "Epoch 90/100\n",
      "32/32 [==============================] - 1s 18ms/step - loss: 0.1328 - accuracy: 0.9476 - val_loss: 0.3017 - val_accuracy: 0.9132\n",
      "Epoch 91/100\n",
      "32/32 [==============================] - 1s 19ms/step - loss: 0.1063 - accuracy: 0.9505 - val_loss: 0.3577 - val_accuracy: 0.8904\n",
      "Epoch 92/100\n",
      "32/32 [==============================] - 1s 19ms/step - loss: 0.0997 - accuracy: 0.9602 - val_loss: 0.4036 - val_accuracy: 0.8767\n",
      "Epoch 93/100\n",
      "32/32 [==============================] - 1s 19ms/step - loss: 0.0914 - accuracy: 0.9632 - val_loss: 0.4572 - val_accuracy: 0.8858\n",
      "Epoch 94/100\n",
      "32/32 [==============================] - 1s 20ms/step - loss: 0.0825 - accuracy: 0.9665 - val_loss: 0.4787 - val_accuracy: 0.8995\n",
      "Epoch 95/100\n",
      "32/32 [==============================] - 1s 19ms/step - loss: 0.1630 - accuracy: 0.9359 - val_loss: 0.4014 - val_accuracy: 0.8858\n",
      "Epoch 96/100\n",
      "32/32 [==============================] - 1s 20ms/step - loss: 0.2129 - accuracy: 0.9154 - val_loss: 0.3098 - val_accuracy: 0.8721\n",
      "Epoch 97/100\n",
      "32/32 [==============================] - 1s 20ms/step - loss: 0.1329 - accuracy: 0.9495 - val_loss: 0.3485 - val_accuracy: 0.8950\n",
      "Epoch 98/100\n",
      "32/32 [==============================] - 1s 19ms/step - loss: 0.0930 - accuracy: 0.9587 - val_loss: 0.4047 - val_accuracy: 0.8995\n",
      "Epoch 99/100\n",
      "32/32 [==============================] - 1s 19ms/step - loss: 0.1048 - accuracy: 0.9561 - val_loss: 0.5196 - val_accuracy: 0.8721\n",
      "Epoch 100/100\n",
      "32/32 [==============================] - 1s 19ms/step - loss: 0.0991 - accuracy: 0.9567 - val_loss: 0.5091 - val_accuracy: 0.8767\n"
     ]
    }
   ],
   "source": [
    "hist_2 = model_2.fit(X_train, Y_train,\n",
    "          batch_size=32, epochs=100,\n",
    "          validation_data=(X_val, Y_val))"
   ]
  },
  {
   "cell_type": "code",
   "execution_count": 21,
   "metadata": {},
   "outputs": [
    {
     "name": "stdout",
     "output_type": "stream",
     "text": [
      "7/7 [==============================] - 0s 667us/step - loss: 0.3296 - accuracy: 0.8767\n"
     ]
    },
    {
     "data": {
      "text/plain": [
       "0.8767123222351074"
      ]
     },
     "execution_count": 21,
     "metadata": {},
     "output_type": "execute_result"
    }
   ],
   "source": [
    "#Evaluatig the accuracy of our model.\n",
    "model.evaluate(X_test, Y_test)[1]"
   ]
  },
  {
   "cell_type": "code",
   "execution_count": 22,
   "metadata": {},
   "outputs": [
    {
     "data": {
      "image/png": "[encoded data removed]",
      "text/plain": [
       "<Figure size 432x288 with 1 Axes>"
      ]
     },
     "metadata": {
      "needs_background": "light"
     },
     "output_type": "display_data"
    }
   ],
   "source": [
    "#Plotting the loss over time for the second model.\n",
    "plt.plot(hist_2.history['loss'])\n",
    "plt.plot(hist_2.history['val_loss'])\n",
    "plt.title('Model loss')\n",
    "plt.ylabel('Loss')\n",
    "plt.xlabel('Epoch')\n",
    "plt.legend(['Train', 'Val'], loc='upper right')\n",
    "plt.show()"
   ]
  },
  {
   "cell_type": "code",
   "execution_count": 23,
   "metadata": {},
   "outputs": [
    {
     "data": {
      "image/png": "[encoded data removed]",
      "text/plain": [
       "<Figure size 432x288 with 1 Axes>"
      ]
     },
     "metadata": {
      "needs_background": "light"
     },
     "output_type": "display_data"
    }
   ],
   "source": [
    "#Plotting the accuracy over time for the second model.\n",
    "plt.plot(hist_2.history['accuracy'])\n",
    "plt.plot(hist_2.history['val_accuracy'])\n",
    "plt.title('Model accuracy')\n",
    "plt.ylabel('Accuracy')\n",
    "plt.xlabel('Epoch')\n",
    "plt.legend(['Train', 'Val'], loc='lower right')\n",
    "plt.show()"
   ]
  },
  {
   "cell_type": "code",
   "execution_count": 24,
   "metadata": {},
   "outputs": [],
   "source": [
    "#Building upon our second model but using dropout and L2 regularisation to reduce the overfitting for the third model.\n",
    "model_3 = Sequential([\n",
    "    Dense(1000, activation='relu', kernel_regularizer=regularizers.l2(0.01), input_shape=(10,)),\n",
    "    Dropout(0.3),\n",
    "    Dense(1000, activation='relu', kernel_regularizer=regularizers.l2(0.01)),\n",
    "    Dropout(0.3),\n",
    "    Dense(1000, activation='relu', kernel_regularizer=regularizers.l2(0.01)),\n",
    "    Dropout(0.3),\n",
    "    Dense(1000, activation='relu', kernel_regularizer=regularizers.l2(0.01)),\n",
    "    Dropout(0.3),\n",
    "    Dense(1, activation='sigmoid', kernel_regularizer=regularizers.l2(0.01)),\n",
    "])"
   ]
  },
  {
   "cell_type": "code",
   "execution_count": 25,
   "metadata": {},
   "outputs": [],
   "source": [
    "#Compiling our model with adam as the optimizer, \n",
    "#and we will also want to track the accuracy of the model.\n",
    "model_3.compile(optimizer='adam',\n",
    "              loss='binary_crossentropy',\n",
    "              metrics=['accuracy'])"
   ]
  },
  {
   "cell_type": "code",
   "execution_count": 26,
   "metadata": {},
   "outputs": [
    {
     "name": "stdout",
     "output_type": "stream",
     "text": [
      "Epoch 1/100\n",
      "32/32 [==============================] - 2s 35ms/step - loss: 21.1019 - accuracy: 0.5669 - val_loss: 3.8835 - val_accuracy: 0.8904\n",
      "Epoch 2/100\n",
      "32/32 [==============================] - 1s 32ms/step - loss: 2.4850 - accuracy: 0.8360 - val_loss: 0.6385 - val_accuracy: 0.8904\n",
      "Epoch 3/100\n",
      "32/32 [==============================] - 1s 32ms/step - loss: 0.6022 - accuracy: 0.8610 - val_loss: 0.4799 - val_accuracy: 0.9132\n",
      "Epoch 4/100\n",
      "32/32 [==============================] - 1s 29ms/step - loss: 0.5076 - accuracy: 0.8719 - val_loss: 0.4858 - val_accuracy: 0.8995\n",
      "Epoch 5/100\n",
      "32/32 [==============================] - 1s 28ms/step - loss: 0.5080 - accuracy: 0.8634 - val_loss: 0.4465 - val_accuracy: 0.9041\n",
      "Epoch 6/100\n",
      "32/32 [==============================] - 1s 33ms/step - loss: 0.5143 - accuracy: 0.8659 - val_loss: 0.4313 - val_accuracy: 0.9087\n",
      "Epoch 7/100\n",
      "32/32 [==============================] - 1s 33ms/step - loss: 0.4731 - accuracy: 0.8705 - val_loss: 0.4352 - val_accuracy: 0.9041\n",
      "Epoch 8/100\n",
      "32/32 [==============================] - 1s 32ms/step - loss: 0.5068 - accuracy: 0.8592 - val_loss: 0.4267 - val_accuracy: 0.9178\n",
      "Epoch 9/100\n",
      "32/32 [==============================] - 1s 30ms/step - loss: 0.4898 - accuracy: 0.8781 - val_loss: 0.4386 - val_accuracy: 0.8995\n",
      "Epoch 10/100\n",
      "32/32 [==============================] - 1s 29ms/step - loss: 0.4837 - accuracy: 0.8756 - val_loss: 0.4161 - val_accuracy: 0.9132\n",
      "Epoch 11/100\n",
      "32/32 [==============================] - 1s 29ms/step - loss: 0.4266 - accuracy: 0.8875 - val_loss: 0.4884 - val_accuracy: 0.8584\n",
      "Epoch 12/100\n",
      "32/32 [==============================] - 1s 31ms/step - loss: 0.5042 - accuracy: 0.8557 - val_loss: 0.4174 - val_accuracy: 0.9041\n",
      "Epoch 13/100\n",
      "32/32 [==============================] - 1s 31ms/step - loss: 0.4495 - accuracy: 0.8797 - val_loss: 0.4160 - val_accuracy: 0.9132\n",
      "Epoch 14/100\n",
      "32/32 [==============================] - 1s 31ms/step - loss: 0.4639 - accuracy: 0.8794 - val_loss: 0.4249 - val_accuracy: 0.8995\n",
      "Epoch 15/100\n",
      "32/32 [==============================] - 1s 30ms/step - loss: 0.4446 - accuracy: 0.8907 - val_loss: 0.4583 - val_accuracy: 0.8858\n",
      "Epoch 16/100\n",
      "32/32 [==============================] - 1s 30ms/step - loss: 0.4831 - accuracy: 0.8702 - val_loss: 0.4149 - val_accuracy: 0.9087\n",
      "Epoch 17/100\n",
      "32/32 [==============================] - 1s 31ms/step - loss: 0.4554 - accuracy: 0.8861 - val_loss: 0.5296 - val_accuracy: 0.8356\n",
      "Epoch 18/100\n",
      "32/32 [==============================] - 1s 31ms/step - loss: 0.5114 - accuracy: 0.8444 - val_loss: 0.4461 - val_accuracy: 0.8995\n",
      "Epoch 19/100\n",
      "32/32 [==============================] - 1s 31ms/step - loss: 0.4275 - accuracy: 0.9003 - val_loss: 0.4230 - val_accuracy: 0.8858\n",
      "Epoch 20/100\n",
      "32/32 [==============================] - 1s 30ms/step - loss: 0.4974 - accuracy: 0.8471 - val_loss: 0.4263 - val_accuracy: 0.9178\n",
      "Epoch 21/100\n",
      "32/32 [==============================] - 1s 30ms/step - loss: 0.4382 - accuracy: 0.8907 - val_loss: 0.4114 - val_accuracy: 0.9041\n",
      "Epoch 22/100\n",
      "32/32 [==============================] - 1s 31ms/step - loss: 0.4242 - accuracy: 0.8773 - val_loss: 0.4550 - val_accuracy: 0.8813\n",
      "Epoch 23/100\n",
      "32/32 [==============================] - 1s 30ms/step - loss: 0.4584 - accuracy: 0.8664 - val_loss: 0.4362 - val_accuracy: 0.8950\n",
      "Epoch 24/100\n",
      "32/32 [==============================] - 1s 30ms/step - loss: 0.4752 - accuracy: 0.8625 - val_loss: 0.4048 - val_accuracy: 0.9087\n",
      "Epoch 25/100\n",
      "32/32 [==============================] - 1s 29ms/step - loss: 0.4447 - accuracy: 0.8862 - val_loss: 0.4151 - val_accuracy: 0.9132\n",
      "Epoch 26/100\n",
      "32/32 [==============================] - 1s 29ms/step - loss: 0.4281 - accuracy: 0.8779 - val_loss: 0.4755 - val_accuracy: 0.8721\n",
      "Epoch 27/100\n",
      "32/32 [==============================] - 1s 31ms/step - loss: 0.4869 - accuracy: 0.8712 - val_loss: 0.4210 - val_accuracy: 0.9087\n",
      "Epoch 28/100\n",
      "32/32 [==============================] - 1s 33ms/step - loss: 0.4380 - accuracy: 0.8890 - val_loss: 0.4155 - val_accuracy: 0.8995\n",
      "Epoch 29/100\n",
      "32/32 [==============================] - 1s 32ms/step - loss: 0.4436 - accuracy: 0.8749 - val_loss: 0.4143 - val_accuracy: 0.9132\n",
      "Epoch 30/100\n",
      "32/32 [==============================] - 1s 30ms/step - loss: 0.4375 - accuracy: 0.8732 - val_loss: 0.4034 - val_accuracy: 0.9132\n",
      "Epoch 31/100\n",
      "32/32 [==============================] - 1s 30ms/step - loss: 0.4146 - accuracy: 0.9033 - val_loss: 0.4063 - val_accuracy: 0.9087\n",
      "Epoch 32/100\n",
      "32/32 [==============================] - 1s 30ms/step - loss: 0.3974 - accuracy: 0.9031 - val_loss: 0.4224 - val_accuracy: 0.9087\n",
      "Epoch 33/100\n",
      "32/32 [==============================] - 1s 29ms/step - loss: 0.4405 - accuracy: 0.8877 - val_loss: 0.4148 - val_accuracy: 0.9087\n",
      "Epoch 34/100\n",
      "32/32 [==============================] - 1s 32ms/step - loss: 0.4384 - accuracy: 0.8878 - val_loss: 0.4048 - val_accuracy: 0.9087\n",
      "Epoch 35/100\n",
      "32/32 [==============================] - 1s 36ms/step - loss: 0.4148 - accuracy: 0.8975 - val_loss: 0.4118 - val_accuracy: 0.9087\n",
      "Epoch 36/100\n",
      "32/32 [==============================] - 1s 30ms/step - loss: 0.4511 - accuracy: 0.8738 - val_loss: 0.4161 - val_accuracy: 0.9087\n",
      "Epoch 37/100\n",
      "32/32 [==============================] - 1s 29ms/step - loss: 0.4352 - accuracy: 0.8887 - val_loss: 0.4369 - val_accuracy: 0.8858\n",
      "Epoch 38/100\n",
      "32/32 [==============================] - 1s 30ms/step - loss: 0.4517 - accuracy: 0.8886 - val_loss: 0.4286 - val_accuracy: 0.8904\n",
      "Epoch 39/100\n",
      "32/32 [==============================] - 1s 31ms/step - loss: 0.4641 - accuracy: 0.8714 - val_loss: 0.4413 - val_accuracy: 0.8767\n",
      "Epoch 40/100\n",
      "32/32 [==============================] - 1s 30ms/step - loss: 0.4506 - accuracy: 0.8876 - val_loss: 0.4060 - val_accuracy: 0.9087\n",
      "Epoch 41/100\n",
      "32/32 [==============================] - 1s 32ms/step - loss: 0.4348 - accuracy: 0.8839 - val_loss: 0.4039 - val_accuracy: 0.8995\n",
      "Epoch 42/100\n",
      "32/32 [==============================] - 1s 30ms/step - loss: 0.4127 - accuracy: 0.8897 - val_loss: 0.4107 - val_accuracy: 0.9087\n",
      "Epoch 43/100\n",
      "32/32 [==============================] - ETA: 0s - loss: 0.4264 - accuracy: 0.88 - 1s 28ms/step - loss: 0.4262 - accuracy: 0.8852 - val_loss: 0.4583 - val_accuracy: 0.8767\n",
      "Epoch 44/100\n",
      "32/32 [==============================] - 1s 31ms/step - loss: 0.4640 - accuracy: 0.8802 - val_loss: 0.4072 - val_accuracy: 0.9087\n",
      "Epoch 45/100\n",
      "32/32 [==============================] - 1s 31ms/step - loss: 0.4433 - accuracy: 0.8685 - val_loss: 0.4126 - val_accuracy: 0.9132\n",
      "Epoch 46/100\n",
      "32/32 [==============================] - 1s 29ms/step - loss: 0.4337 - accuracy: 0.8816 - val_loss: 0.4107 - val_accuracy: 0.9132\n",
      "Epoch 47/100\n",
      "32/32 [==============================] - 1s 30ms/step - loss: 0.4254 - accuracy: 0.8845 - val_loss: 0.4101 - val_accuracy: 0.9087\n",
      "Epoch 48/100\n",
      "32/32 [==============================] - 1s 32ms/step - loss: 0.4328 - accuracy: 0.8929 - val_loss: 0.4082 - val_accuracy: 0.8995\n",
      "Epoch 49/100\n",
      "32/32 [==============================] - 1s 33ms/step - loss: 0.4458 - accuracy: 0.8844 - val_loss: 0.4317 - val_accuracy: 0.8858\n",
      "Epoch 50/100\n",
      "32/32 [==============================] - 1s 34ms/step - loss: 0.4352 - accuracy: 0.8883 - val_loss: 0.4580 - val_accuracy: 0.8858\n",
      "Epoch 51/100\n",
      "32/32 [==============================] - 1s 30ms/step - loss: 0.4350 - accuracy: 0.8814 - val_loss: 0.4551 - val_accuracy: 0.8813\n",
      "Epoch 52/100\n",
      "32/32 [==============================] - 1s 31ms/step - loss: 0.4246 - accuracy: 0.8782 - val_loss: 0.4527 - val_accuracy: 0.8813\n",
      "Epoch 53/100\n",
      "32/32 [==============================] - 1s 34ms/step - loss: 0.4731 - accuracy: 0.8567 - val_loss: 0.4020 - val_accuracy: 0.9132\n",
      "Epoch 54/100\n",
      "32/32 [==============================] - 1s 30ms/step - loss: 0.4309 - accuracy: 0.8983 - val_loss: 0.4197 - val_accuracy: 0.8995\n",
      "Epoch 55/100\n",
      "32/32 [==============================] - 1s 34ms/step - loss: 0.4158 - accuracy: 0.8966 - val_loss: 0.4059 - val_accuracy: 0.9087\n",
      "Epoch 56/100\n",
      "32/32 [==============================] - 1s 35ms/step - loss: 0.4569 - accuracy: 0.8677 - val_loss: 0.3997 - val_accuracy: 0.9041\n",
      "Epoch 57/100\n",
      "32/32 [==============================] - 1s 33ms/step - loss: 0.4422 - accuracy: 0.8746 - val_loss: 0.4585 - val_accuracy: 0.8767\n",
      "Epoch 58/100\n"
     ]
    },
    {
     "name": "stdout",
     "output_type": "stream",
     "text": [
      "32/32 [==============================] - 1s 29ms/step - loss: 0.4784 - accuracy: 0.8561 - val_loss: 0.4389 - val_accuracy: 0.8858\n",
      "Epoch 59/100\n",
      "32/32 [==============================] - 1s 29ms/step - loss: 0.4632 - accuracy: 0.8867 - val_loss: 0.4609 - val_accuracy: 0.8813\n",
      "Epoch 60/100\n",
      "32/32 [==============================] - 1s 31ms/step - loss: 0.4560 - accuracy: 0.8826 - val_loss: 0.4177 - val_accuracy: 0.9132\n",
      "Epoch 61/100\n",
      "32/32 [==============================] - 1s 31ms/step - loss: 0.4583 - accuracy: 0.8697 - val_loss: 0.4727 - val_accuracy: 0.8493\n",
      "Epoch 62/100\n",
      "32/32 [==============================] - 1s 33ms/step - loss: 0.4635 - accuracy: 0.8815 - val_loss: 0.4052 - val_accuracy: 0.9087\n",
      "Epoch 63/100\n",
      "32/32 [==============================] - 1s 31ms/step - loss: 0.4133 - accuracy: 0.8910 - val_loss: 0.4398 - val_accuracy: 0.8767\n",
      "Epoch 64/100\n",
      "32/32 [==============================] - 1s 29ms/step - loss: 0.4260 - accuracy: 0.8983 - val_loss: 0.4151 - val_accuracy: 0.9132\n",
      "Epoch 65/100\n",
      "32/32 [==============================] - 1s 29ms/step - loss: 0.4444 - accuracy: 0.8826 - val_loss: 0.4060 - val_accuracy: 0.8950\n",
      "Epoch 66/100\n",
      "32/32 [==============================] - 1s 30ms/step - loss: 0.4578 - accuracy: 0.8685 - val_loss: 0.4028 - val_accuracy: 0.9132\n",
      "Epoch 67/100\n",
      "32/32 [==============================] - 1s 29ms/step - loss: 0.4343 - accuracy: 0.8921 - val_loss: 0.4509 - val_accuracy: 0.8858\n",
      "Epoch 68/100\n",
      "32/32 [==============================] - 1s 30ms/step - loss: 0.4469 - accuracy: 0.8861 - val_loss: 0.3997 - val_accuracy: 0.9224\n",
      "Epoch 69/100\n",
      "32/32 [==============================] - 1s 29ms/step - loss: 0.4255 - accuracy: 0.8835 - val_loss: 0.4124 - val_accuracy: 0.8904\n",
      "Epoch 70/100\n",
      "32/32 [==============================] - 1s 29ms/step - loss: 0.4213 - accuracy: 0.8930 - val_loss: 0.4014 - val_accuracy: 0.9087\n",
      "Epoch 71/100\n",
      "32/32 [==============================] - 1s 30ms/step - loss: 0.4091 - accuracy: 0.8856 - val_loss: 0.4275 - val_accuracy: 0.8904\n",
      "Epoch 72/100\n",
      "32/32 [==============================] - 1s 29ms/step - loss: 0.4102 - accuracy: 0.8996 - val_loss: 0.4204 - val_accuracy: 0.8995\n",
      "Epoch 73/100\n",
      "32/32 [==============================] - 1s 29ms/step - loss: 0.4251 - accuracy: 0.9000 - val_loss: 0.4338 - val_accuracy: 0.8767\n",
      "Epoch 74/100\n",
      "32/32 [==============================] - 1s 29ms/step - loss: 0.4457 - accuracy: 0.8713 - val_loss: 0.4568 - val_accuracy: 0.8721\n",
      "Epoch 75/100\n",
      "32/32 [==============================] - 1s 28ms/step - loss: 0.4426 - accuracy: 0.8812 - val_loss: 0.4037 - val_accuracy: 0.9132\n",
      "Epoch 76/100\n",
      "32/32 [==============================] - 1s 29ms/step - loss: 0.4234 - accuracy: 0.8888 - val_loss: 0.4103 - val_accuracy: 0.9041\n",
      "Epoch 77/100\n",
      "32/32 [==============================] - 1s 29ms/step - loss: 0.4550 - accuracy: 0.8669 - val_loss: 0.4669 - val_accuracy: 0.8584\n",
      "Epoch 78/100\n",
      "32/32 [==============================] - 1s 29ms/step - loss: 0.4567 - accuracy: 0.8710 - val_loss: 0.4553 - val_accuracy: 0.8767\n",
      "Epoch 79/100\n",
      "32/32 [==============================] - 1s 33ms/step - loss: 0.4463 - accuracy: 0.8864 - val_loss: 0.4047 - val_accuracy: 0.9087\n",
      "Epoch 80/100\n",
      "32/32 [==============================] - 1s 30ms/step - loss: 0.3980 - accuracy: 0.9011 - val_loss: 0.4117 - val_accuracy: 0.9132\n",
      "Epoch 81/100\n",
      "32/32 [==============================] - 1s 30ms/step - loss: 0.4559 - accuracy: 0.8662 - val_loss: 0.4018 - val_accuracy: 0.9132\n",
      "Epoch 82/100\n",
      "32/32 [==============================] - 1s 31ms/step - loss: 0.4249 - accuracy: 0.8755 - val_loss: 0.4050 - val_accuracy: 0.9087\n",
      "Epoch 83/100\n",
      "32/32 [==============================] - 1s 29ms/step - loss: 0.4406 - accuracy: 0.8886 - val_loss: 0.4010 - val_accuracy: 0.9269\n",
      "Epoch 84/100\n",
      "32/32 [==============================] - 1s 30ms/step - loss: 0.3998 - accuracy: 0.8910 - val_loss: 0.4103 - val_accuracy: 0.9087\n",
      "Epoch 85/100\n",
      "32/32 [==============================] - 1s 29ms/step - loss: 0.4188 - accuracy: 0.8809 - val_loss: 0.4062 - val_accuracy: 0.9087\n",
      "Epoch 86/100\n",
      "32/32 [==============================] - 1s 29ms/step - loss: 0.4385 - accuracy: 0.8922 - val_loss: 0.4016 - val_accuracy: 0.9087\n",
      "Epoch 87/100\n",
      "32/32 [==============================] - 1s 29ms/step - loss: 0.4244 - accuracy: 0.8966 - val_loss: 0.4141 - val_accuracy: 0.9087\n",
      "Epoch 88/100\n",
      "32/32 [==============================] - 1s 29ms/step - loss: 0.4369 - accuracy: 0.8706 - val_loss: 0.4098 - val_accuracy: 0.8904\n",
      "Epoch 89/100\n",
      "32/32 [==============================] - 1s 32ms/step - loss: 0.4155 - accuracy: 0.8952 - val_loss: 0.5062 - val_accuracy: 0.8493\n",
      "Epoch 90/100\n",
      "32/32 [==============================] - 1s 33ms/step - loss: 0.4618 - accuracy: 0.8764 - val_loss: 0.4028 - val_accuracy: 0.9087\n",
      "Epoch 91/100\n",
      "32/32 [==============================] - 1s 34ms/step - loss: 0.4161 - accuracy: 0.8924 - val_loss: 0.4154 - val_accuracy: 0.9087\n",
      "Epoch 92/100\n",
      "32/32 [==============================] - 1s 34ms/step - loss: 0.4475 - accuracy: 0.8805 - val_loss: 0.4253 - val_accuracy: 0.8858\n",
      "Epoch 93/100\n",
      "32/32 [==============================] - 1s 35ms/step - loss: 0.4510 - accuracy: 0.8791 - val_loss: 0.4049 - val_accuracy: 0.8950\n",
      "Epoch 94/100\n",
      "32/32 [==============================] - 1s 29ms/step - loss: 0.4224 - accuracy: 0.8938 - val_loss: 0.4150 - val_accuracy: 0.8904\n",
      "Epoch 95/100\n",
      "32/32 [==============================] - 1s 31ms/step - loss: 0.4482 - accuracy: 0.8848 - val_loss: 0.4081 - val_accuracy: 0.8950\n",
      "Epoch 96/100\n",
      "32/32 [==============================] - 1s 30ms/step - loss: 0.4368 - accuracy: 0.8911 - val_loss: 0.4130 - val_accuracy: 0.9087\n",
      "Epoch 97/100\n",
      "32/32 [==============================] - 1s 29ms/step - loss: 0.4316 - accuracy: 0.8767 - val_loss: 0.4122 - val_accuracy: 0.9087\n",
      "Epoch 98/100\n",
      "32/32 [==============================] - 1s 28ms/step - loss: 0.4320 - accuracy: 0.8869 - val_loss: 0.4099 - val_accuracy: 0.8904\n",
      "Epoch 99/100\n",
      "32/32 [==============================] - 1s 28ms/step - loss: 0.4605 - accuracy: 0.8689 - val_loss: 0.4355 - val_accuracy: 0.8813\n",
      "Epoch 100/100\n",
      "32/32 [==============================] - 1s 28ms/step - loss: 0.4917 - accuracy: 0.8571 - val_loss: 0.4161 - val_accuracy: 0.9041\n"
     ]
    }
   ],
   "source": [
    "hist_3 = model_3.fit(X_train, Y_train,\n",
    "          batch_size=32, epochs=100,\n",
    "          validation_data=(X_val, Y_val))"
   ]
  },
  {
   "cell_type": "code",
   "execution_count": 27,
   "metadata": {},
   "outputs": [
    {
     "name": "stdout",
     "output_type": "stream",
     "text": [
      "7/7 [==============================] - 0s 500us/step - loss: 0.3296 - accuracy: 0.8767\n"
     ]
    },
    {
     "data": {
      "text/plain": [
       "0.8767123222351074"
      ]
     },
     "execution_count": 27,
     "metadata": {},
     "output_type": "execute_result"
    }
   ],
   "source": [
    "#Evaluatig the accuracy of our model.\n",
    "model.evaluate(X_test, Y_test)[1]"
   ]
  },
  {
   "cell_type": "code",
   "execution_count": 28,
   "metadata": {},
   "outputs": [
    {
     "data": {
      "image/png": "[encoded data removed]",
      "text/plain": [
       "<Figure size 432x288 with 1 Axes>"
      ]
     },
     "metadata": {
      "needs_background": "light"
     },
     "output_type": "display_data"
    }
   ],
   "source": [
    "#Plotting the loss over time for the third model.\n",
    "plt.plot(hist_3.history['loss'])\n",
    "plt.plot(hist_3.history['val_loss'])\n",
    "plt.title('Model loss')\n",
    "plt.ylabel('Loss')\n",
    "plt.xlabel('Epoch')\n",
    "plt.legend(['Train', 'Val'], loc='upper right')\n",
    "plt.ylim(top=1.2, bottom=0)\n",
    "plt.show()"
   ]
  },
  {
   "cell_type": "code",
   "execution_count": 79,
   "metadata": {},
   "outputs": [
    {
     "data": {
      "image/png": "[encoded data removed]",
      "text/plain": [
       "<Figure size 432x288 with 1 Axes>"
      ]
     },
     "metadata": {
      "needs_background": "light"
     },
     "output_type": "display_data"
    }
   ],
   "source": [
    "#Plotting the accuracy over time for the third model.\n",
    "plt.plot(hist_3.history['accuracy'])\n",
    "plt.plot(hist_3.history['val_accuracy'])\n",
    "plt.title('Model accuracy')\n",
    "plt.ylabel('Accuracy')\n",
    "plt.xlabel('Epoch')\n",
    "plt.legend(['Train', 'Val'], loc='lower right')\n",
    "plt.show()"
   ]
  },
  {
   "cell_type": "code",
   "execution_count": null,
   "metadata": {},
   "outputs": [],
   "source": []
  }
 ],
 "metadata": {
  "kernelspec": {
   "display_name": "Python 3",
   "language": "python",
   "name": "python3"
  },
  "language_info": {
   "codemirror_mode": {
    "name": "ipython",
    "version": 3
   },
   "file_extension": ".py",
   "mimetype": "text/x-python",
   "name": "python",
   "nbconvert_exporter": "python",
   "pygments_lexer": "ipython3",
   "version": "3.8.5"
  }
 },
 "nbformat": 4,
 "nbformat_minor": 4
}
